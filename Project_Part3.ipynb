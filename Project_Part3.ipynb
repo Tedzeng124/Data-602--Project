{
  "nbformat": 4,
  "nbformat_minor": 0,
  "metadata": {
    "colab": {
      "provenance": []
    },
    "kernelspec": {
      "name": "python3",
      "display_name": "Python 3"
    },
    "language_info": {
      "name": "python"
    }
  },
  "cells": [
    {
      "cell_type": "code",
      "execution_count": 9,
      "metadata": {
        "colab": {
          "base_uri": "https://localhost:8080/"
        },
        "id": "8sHIuYzDacAC",
        "outputId": "c61bce73-3c33-46fa-d713-2c4f6b64efb0"
      },
      "outputs": [
        {
          "output_type": "stream",
          "name": "stdout",
          "text": [
            "4.553109711601068e+34\n",
            "-7.078474185283993e+26\n"
          ]
        }
      ],
      "source": [
        "import pandas as pd\n",
        "import numpy as np\n",
        "from sklearn.model_selection import train_test_split\n",
        "from sklearn.linear_model import LinearRegression\n",
        "from sklearn.metrics import mean_squared_error, r2_score\n",
        "from sklearn.preprocessing import StandardScaler\n",
        "\n",
        "data = pd.read_csv('Electric_Vehicle_Population_Data.csv')\n",
        "\n",
        "selectd_data = data[['Make', 'Model', 'Model Year', 'Electric Vehicle Type', 'Electric Range', 'Base MSRP', 'County']].copy()\n",
        "\n",
        "selectd_data.dropna(subset=['Make', 'Model', 'Model Year', 'Electric Vehicle Type', 'Electric Range', 'Base MSRP', 'County'], inplace=True)\n",
        "\n",
        "selectd_data = pd.get_dummies(selectd_data, columns=['Make', 'Model', 'Electric Vehicle Type', 'County'], drop_first=True)\n",
        "selectd_data = selectd_data.astype(int)\n",
        "\n",
        "x = selectd_data.drop('Base MSRP', axis=1)   #variable for price prediction\n",
        "y = selectd_data['Base MSRP']\n",
        "\n",
        "scaler = StandardScaler()\n",
        "x_scaled = scaler.fit_transform(x)\n",
        "\n",
        "x_train, x_test, y_train, y_test = train_test_split(x_scaled, y, test_size=0.2, random_state=42)\n",
        "\n",
        "model = LinearRegression()\n",
        "model.fit(x_train, y_train)\n",
        "\n",
        "y_pred = model.predict(x_test)\n",
        "\n",
        "mse = mean_squared_error(y_test, y_pred)\n",
        "r2 = r2_score(y_test, y_pred)\n",
        "\n",
        "print(mse)\n",
        "print(r2)"
      ]
    }
  ]
}